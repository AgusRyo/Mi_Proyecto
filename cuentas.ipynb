{
  "nbformat": 4,
  "nbformat_minor": 0,
  "metadata": {
    "colab": {
      "provenance": [],
      "authorship_tag": "ABX9TyMVdfNUQIb6vWUnTVshzeoc",
      "include_colab_link": true
    },
    "kernelspec": {
      "name": "python3",
      "display_name": "Python 3"
    },
    "language_info": {
      "name": "python"
    }
  },
  "cells": [
    {
      "cell_type": "markdown",
      "metadata": {
        "id": "view-in-github",
        "colab_type": "text"
      },
      "source": [
        "<a href=\"https://colab.research.google.com/github/AgusRyo/Mi_Proyecto/blob/main/cuentas.ipynb\" target=\"_parent\"><img src=\"https://colab.research.google.com/assets/colab-badge.svg\" alt=\"Open In Colab\"/></a>"
      ]
    },
    {
      "cell_type": "code",
      "execution_count": 19,
      "metadata": {
        "colab": {
          "base_uri": "https://localhost:8080/"
        },
        "id": "4tt103wV-MDg",
        "outputId": "6a3e9dc0-db52-4de2-a34c-489fe96a830e"
      },
      "outputs": [
        {
          "output_type": "stream",
          "name": "stdout",
          "text": [
            "20000\n"
          ]
        }
      ],
      "source": [
        "#!/usr/bin/env python\n",
        "# -*- coding: utf-8 -*-\n",
        "# author: Agustina\n",
        "\n",
        "import datetime\n",
        "\n",
        "class Cuenta():\n",
        "  #Defino un constructor para cuenta\n",
        "  def __init__(self, monto_inicio=0, numero_de_cuenta=0): \n",
        "    self.cantidad = monto_inicio\n",
        "    self.numero_de_cuenta = numero_de_cuenta\n",
        "    self.movimientos = []\n",
        "    self.activa = True\n",
        "\n",
        "  def aplicar_gasto(self, monto):# método para retirar dinero\n",
        "    self.cantidad = self.cantidad - monto\n",
        "\n",
        "  def aplicar_deposito(self, monto): # método para agregar dinero\n",
        "    self.cantidad = self.cantidad + monto\n",
        "\n",
        "  def desactivar (self):\n",
        "    self.activa = False\n",
        "  \n",
        "  def activar(self):\n",
        "    self.activa = True\n",
        "\n",
        "  def crear_movimiento(self, descripcion, monto):\n",
        "    movimiento = MovimientoCuenta(descripcion, monto)\n",
        "    self.movimientos.append(movimiento)\n",
        "\n",
        "  def __str__(self):\n",
        "    return f\"Cuenta Común {self.cantidad}\" \n",
        "\n",
        "  \n",
        "  \n",
        "class CuentaJoven(Cuenta):\n",
        "  def __init__(self,bonificacion,monto_inicio=0, numero_de_cuenta=0):\n",
        "    Cuenta.__init__(self, monto_inicio,numero_de_cuenta)\n",
        "    self.bonificacion = bonificacion\n",
        "\n",
        "  def __str__(self):\n",
        "    return f\"Cuenta Joven {self.cantidad}\"\n",
        "\n",
        "\n",
        "\n",
        "class MovimientoCuenta(object):\n",
        "  def __init__ (self, descripcion, monto_movimiento ):\n",
        "    self.descripcion = descripcion\n",
        "    self.monto = monto_movimiento\n",
        "    self.fecha_hora = datetime.datetime.now()\n",
        "\n",
        "  def  __str__(self):\n",
        "    return f\"{self.fecha_hora} {self.descripcion} {self.monto}\"\n",
        "\n",
        "\n",
        "prueba =Cuenta(20000, 14563)\n",
        "prueba.crear_movimiento(\"depósito\", 2000)\n"
      ]
    }
  ]
}